{
 "cells": [
  {
   "cell_type": "code",
   "execution_count": 52,
   "metadata": {},
   "outputs": [],
   "source": [
    "import torch as t \n",
    "\n",
    "a = t.randn(3*2*4)"
   ]
  },
  {
   "cell_type": "code",
   "execution_count": 53,
   "metadata": {},
   "outputs": [
    {
     "data": {
      "text/plain": [
       "tensor([[[-1.3830e+00,  8.6476e-01, -3.1128e+00, -1.1088e+00],\n",
       "         [ 1.6798e-01, -1.3277e+00, -1.8857e-01, -1.4046e+00]],\n",
       "\n",
       "        [[-1.2726e+00,  1.8294e-01,  3.3442e+00,  8.1870e-01],\n",
       "         [ 1.0582e+00,  9.0292e-01, -1.4321e-03,  1.0008e+00]],\n",
       "\n",
       "        [[-8.8650e-01,  9.8501e-01,  1.8137e-01, -1.9648e-01],\n",
       "         [-1.1715e-01,  1.4824e+00,  9.3089e-01,  4.9043e-01]]])"
      ]
     },
     "execution_count": 53,
     "metadata": {},
     "output_type": "execute_result"
    }
   ],
   "source": [
    "a = a.reshape(3,2,4)\n",
    "a"
   ]
  },
  {
   "cell_type": "code",
   "execution_count": 54,
   "metadata": {},
   "outputs": [
    {
     "name": "stdout",
     "output_type": "stream",
     "text": [
      "tensor([[2, 2, 1, 1],\n",
      "        [1, 2, 2, 1]])\n",
      "torch.Size([2, 4])\n"
     ]
    }
   ],
   "source": [
    "print(a.argmax(dim=0))\n",
    "print(a.argmax(dim=0).shape)"
   ]
  },
  {
   "cell_type": "code",
   "execution_count": 55,
   "metadata": {},
   "outputs": [
    {
     "name": "stdout",
     "output_type": "stream",
     "text": [
      "tensor([[1, 0, 1, 0],\n",
      "        [1, 1, 0, 1],\n",
      "        [1, 1, 1, 1]])\n",
      "torch.Size([3, 4])\n"
     ]
    }
   ],
   "source": [
    "print(a.argmax(dim=1))\n",
    "print(a.argmax(dim=1).shape)"
   ]
  },
  {
   "cell_type": "code",
   "execution_count": 56,
   "metadata": {},
   "outputs": [
    {
     "name": "stdout",
     "output_type": "stream",
     "text": [
      "tensor([[1, 0],\n",
      "        [2, 0],\n",
      "        [1, 1]])\n",
      "torch.Size([3, 2])\n"
     ]
    }
   ],
   "source": [
    "print(a.argmax(dim=-1))\n",
    "print(a.argmax(dim=-1).shape)"
   ]
  },
  {
   "cell_type": "code",
   "execution_count": null,
   "metadata": {},
   "outputs": [],
   "source": []
  }
 ],
 "metadata": {
  "kernelspec": {
   "display_name": "PT",
   "language": "python",
   "name": "python3"
  },
  "language_info": {
   "codemirror_mode": {
    "name": "ipython",
    "version": 3
   },
   "file_extension": ".py",
   "mimetype": "text/x-python",
   "name": "python",
   "nbconvert_exporter": "python",
   "pygments_lexer": "ipython3",
   "version": "3.9.15 | packaged by conda-forge | (main, Nov 22 2022, 08:55:37) \n[Clang 14.0.6 ]"
  },
  "orig_nbformat": 4,
  "vscode": {
   "interpreter": {
    "hash": "a80da1299cfb6fcf32c2920c6d7840566b2321111569b9b748c12c8898665689"
   }
  }
 },
 "nbformat": 4,
 "nbformat_minor": 2
}
