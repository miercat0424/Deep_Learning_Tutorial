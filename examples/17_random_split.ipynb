{
 "cells": [
  {
   "cell_type": "code",
   "execution_count": 44,
   "metadata": {},
   "outputs": [],
   "source": [
    "import torch as t \n",
    "from torch.utils.data import random_split, TensorDataset, DataLoader"
   ]
  },
  {
   "cell_type": "code",
   "execution_count": 45,
   "metadata": {},
   "outputs": [
    {
     "name": "stdout",
     "output_type": "stream",
     "text": [
      "Data Sets : 50\n"
     ]
    },
    {
     "data": {
      "text/plain": [
       "(tensor([[[ 0,  1,  2,  3,  4],\n",
       "          [ 5,  6,  7,  8,  9],\n",
       "          [10, 11, 12, 13, 14],\n",
       "          [15, 16, 17, 18, 19],\n",
       "          [20, 21, 22, 23, 24]],\n",
       " \n",
       "         [[25, 26, 27, 28, 29],\n",
       "          [30, 31, 32, 33, 34],\n",
       "          [35, 36, 37, 38, 39],\n",
       "          [40, 41, 42, 43, 44],\n",
       "          [45, 46, 47, 48, 49]]]),\n",
       " tensor(0))"
      ]
     },
     "execution_count": 45,
     "metadata": {},
     "output_type": "execute_result"
    }
   ],
   "source": [
    "datas = t.arange(0,50*2*5*5).view(50,2,5,5)\n",
    "labels  = t.randint(0,2,size=(50,))\n",
    "\n",
    "dataset = TensorDataset(datas, labels)\n",
    "\n",
    "\n",
    "print(f'Data Sets : {len(dataset)}')\n",
    "next(iter(dataset))"
   ]
  },
  {
   "cell_type": "code",
   "execution_count": 46,
   "metadata": {},
   "outputs": [
    {
     "name": "stdout",
     "output_type": "stream",
     "text": [
      "===============================================train================================================\n",
      "torch.Size([10, 2, 5, 5])\n",
      "Train Sets : 3\n",
      "================================================val=================================================\n",
      "torch.Size([2, 2, 5, 5])\n",
      "Val Sets : 10\n"
     ]
    }
   ],
   "source": [
    "train, val = random_split(dataset, [30,20])\n",
    "print(\"train\".center(100,'='))\n",
    "train_loader = DataLoader(train, batch_size=10, shuffle=True)\n",
    "for i, (data, labels_) in enumerate(train_loader) : \n",
    "    pass\n",
    "print(data.size())\n",
    "print(f\"Train Sets : {i+1}\")\n",
    "    \n",
    "print(\"val\".center(100,'='))\n",
    "val_loader = DataLoader(val, batch_size=2, shuffle=True)\n",
    "for i, (data, labels_) in enumerate(val_loader) : \n",
    "    pass\n",
    "print(data.size())\n",
    "print(f\"Val Sets : {i+1}\")\n"
   ]
  },
  {
   "cell_type": "code",
   "execution_count": null,
   "metadata": {},
   "outputs": [],
   "source": []
  }
 ],
 "metadata": {
  "kernelspec": {
   "display_name": "PT",
   "language": "python",
   "name": "python3"
  },
  "language_info": {
   "codemirror_mode": {
    "name": "ipython",
    "version": 3
   },
   "file_extension": ".py",
   "mimetype": "text/x-python",
   "name": "python",
   "nbconvert_exporter": "python",
   "pygments_lexer": "ipython3",
   "version": "3.9.15 | packaged by conda-forge | (main, Nov 22 2022, 08:55:37) \n[Clang 14.0.6 ]"
  },
  "orig_nbformat": 4,
  "vscode": {
   "interpreter": {
    "hash": "a80da1299cfb6fcf32c2920c6d7840566b2321111569b9b748c12c8898665689"
   }
  }
 },
 "nbformat": 4,
 "nbformat_minor": 2
}
