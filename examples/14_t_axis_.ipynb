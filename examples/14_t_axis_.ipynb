{
 "cells": [
  {
   "cell_type": "code",
   "execution_count": 15,
   "metadata": {},
   "outputs": [
    {
     "name": "stdout",
     "output_type": "stream",
     "text": [
      "tensor([[[[ 3,  7,  4],\n",
      "          [ 1,  9,  7],\n",
      "          [ 7, 11, 10]],\n",
      "\n",
      "         [[ 8,  8, 11],\n",
      "          [ 2,  5,  1],\n",
      "          [ 2,  8,  1]],\n",
      "\n",
      "         [[ 5,  0,  0],\n",
      "          [ 8,  7, 11],\n",
      "          [ 2,  2,  0]]],\n",
      "\n",
      "\n",
      "        [[[ 3,  9,  3],\n",
      "          [ 6, 11,  6],\n",
      "          [ 3,  8,  7]],\n",
      "\n",
      "         [[ 8,  6,  8],\n",
      "          [10,  4,  5],\n",
      "          [ 4,  9,  0]],\n",
      "\n",
      "         [[11,  2,  4],\n",
      "          [ 4,  7,  8],\n",
      "          [10,  7,  9]]],\n",
      "\n",
      "\n",
      "        [[[ 1,  2,  5],\n",
      "          [ 7,  7,  9],\n",
      "          [10, 10, 10]],\n",
      "\n",
      "         [[ 9,  8,  5],\n",
      "          [ 8, 11,  4],\n",
      "          [ 5,  4,  1]],\n",
      "\n",
      "         [[ 3,  9,  5],\n",
      "          [ 1,  4, 11],\n",
      "          [ 8, 11,  0]]]])\n"
     ]
    }
   ],
   "source": [
    "import torch as t\n",
    "\n",
    "a = t.randint(12, size=(3,3,3,3))\n",
    "print(a)\n",
    "a = (a/255.0).mean(axis=(0,1,2))\n",
    "b = (a/255.0).mean()"
   ]
  },
  {
   "cell_type": "code",
   "execution_count": 16,
   "metadata": {},
   "outputs": [
    {
     "name": "stdout",
     "output_type": "stream",
     "text": [
      "========================a=========================\n",
      "tensor([0.0216, 0.0270, 0.0211])\n",
      "========================b=========================\n",
      "tensor(9.1133e-05)\n"
     ]
    }
   ],
   "source": [
    "print(\"a\".center(50,\"=\"))\n",
    "print(a)\n",
    "print(\"b\".center(50,\"=\"))\n",
    "print(b)"
   ]
  },
  {
   "cell_type": "code",
   "execution_count": 70,
   "metadata": {},
   "outputs": [
    {
     "name": "stdout",
     "output_type": "stream",
     "text": [
      "tensor([[[[7., 1.],\n",
      "          [1., 1.]],\n",
      "\n",
      "         [[0., 1.],\n",
      "          [1., 1.]]],\n",
      "\n",
      "\n",
      "        [[[1., 1.],\n",
      "          [1., 1.]],\n",
      "\n",
      "         [[1., 1.],\n",
      "          [1., 1.]]],\n",
      "\n",
      "\n",
      "        [[[1., 1.],\n",
      "          [1., 1.]],\n",
      "\n",
      "         [[1., 1.],\n",
      "          [1., 1.]]]])\n",
      "========================a=========================\n",
      "tensor([1.4167, 1.0000])\n",
      "========================b=========================\n",
      "tensor(1.2083)\n"
     ]
    }
   ],
   "source": [
    "a = t.ones(size=(3,2,2,2))\n",
    "a[0,0,0,0] += 3\n",
    "a[0,0,0,0] += 2\n",
    "a[0,0,0,0] += 1\n",
    "a[0,1,0,0] -= 1\n",
    "print(a)\n",
    "a = (a).mean(axis=(0,1,2))\n",
    "b = (a).mean()\n",
    "\n",
    "print(\"a\".center(50,\"=\"))\n",
    "print(a)\n",
    "print(\"b\".center(50,\"=\"))\n",
    "print(b)"
   ]
  },
  {
   "cell_type": "code",
   "execution_count": 53,
   "metadata": {},
   "outputs": [
    {
     "data": {
      "text/plain": [
       "1.75"
      ]
     },
     "execution_count": 53,
     "metadata": {},
     "output_type": "execute_result"
    }
   ],
   "source": []
  },
  {
   "cell_type": "code",
   "execution_count": null,
   "metadata": {},
   "outputs": [],
   "source": []
  }
 ],
 "metadata": {
  "kernelspec": {
   "display_name": "PT",
   "language": "python",
   "name": "python3"
  },
  "language_info": {
   "codemirror_mode": {
    "name": "ipython",
    "version": 3
   },
   "file_extension": ".py",
   "mimetype": "text/x-python",
   "name": "python",
   "nbconvert_exporter": "python",
   "pygments_lexer": "ipython3",
   "version": "3.9.15"
  },
  "orig_nbformat": 4,
  "vscode": {
   "interpreter": {
    "hash": "a80da1299cfb6fcf32c2920c6d7840566b2321111569b9b748c12c8898665689"
   }
  }
 },
 "nbformat": 4,
 "nbformat_minor": 2
}
